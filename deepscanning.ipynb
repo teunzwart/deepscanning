{
 "cells": [
  {
   "cell_type": "code",
   "execution_count": null,
   "metadata": {
    "autoscroll": false,
    "ein.tags": "worksheet-0",
    "slideshow": {
     "slide_type": "-"
    }
   },
   "outputs": [],
   "source": [
    "import matplotlib.pyplot as plt\n",
    "import numpy as np\n",
    "import seaborn as sns\n",
    "\n",
    "import keras\n",
    "from keras.models import load_model\n",
    "\n",
    "from visualize import *\n",
    "from deep_q_learning import *\n",
    "from lieb_liniger_state import *\n",
    "from sum_rule import *\n",
    "from utils import map_to_entire_space, map_to_bethe_numbers, get_valid_random_action, change_state\n",
    "from calculate_dsf import *\n",
    "\n",
    "np.random.seed(7)\n",
    "\n",
    "# plt.rc('text', usetex=True)\n",
    "# plt.rc('font', family='serif')\n",
    "\n",
    "%config InlineBackend.figure_format = 'svg'\n",
    "%matplotlib inline\n",
    "%load_ext autoreload\n",
    "%autoreload 2"
   ]
  },
  {
   "cell_type": "code",
   "execution_count": null,
   "metadata": {
    "autoscroll": false,
    "ein.tags": "worksheet-0",
    "slideshow": {
     "slide_type": "-"
    }
   },
   "outputs": [],
   "source": [
    "L = N = 5\n",
    "Imax = 12\n",
    "c = 1\n",
    "\n",
    "N_world = 2 * Imax + 1"
   ]
  },
  {
   "cell_type": "code",
   "execution_count": null,
   "metadata": {
    "autoscroll": false,
    "ein.tags": "worksheet-0",
    "scrolled": false,
    "slideshow": {
     "slide_type": "-"
    }
   },
   "outputs": [],
   "source": [
    "model, best_dsf, sums, best_sums = q_learning(N_world, Imax, c, L, N, alpha=0.1, \n",
    "                                              no_of_steps=500, epochs=25, epsilon=0.1, check_no_of_pairs=False)"
   ]
  },
  {
   "cell_type": "code",
   "execution_count": null,
   "metadata": {
    "autoscroll": false,
    "ein.tags": "worksheet-0",
    "slideshow": {
     "slide_type": "-"
    }
   },
   "outputs": [],
   "source": [
    "plt.plot(range(len(sums)), sums, best_sums)\n",
    "plt.show()"
   ]
  },
  {
   "cell_type": "code",
   "execution_count": null,
   "metadata": {
    "autoscroll": false,
    "ein.tags": "worksheet-0",
    "scrolled": true,
    "slideshow": {
     "slide_type": "-"
    }
   },
   "outputs": [],
   "source": [
    "dsfs, saturation_history, form_factors = dsf_scan(model, N_world, Imax, c, L, N, \n",
    "                                                    max_no_of_steps=1000, \n",
    "                                                    prefered_sumrule_saturation=0.8, \n",
    "                                                    is_random=False, \n",
    "                                                    check_no_of_pairs=False)"
   ]
  },
  {
   "cell_type": "code",
   "execution_count": null,
   "metadata": {},
   "outputs": [],
   "source": [
    "refstate = lls.lieb_liniger_state(c, L, N)\n",
    "refstate.calculate_all()\n",
    "compute_average_sumrule(dsfs, refstate.energy, L, N, Imax, N_world, print_all=True)"
   ]
  },
  {
   "cell_type": "code",
   "execution_count": null,
   "metadata": {
    "autoscroll": false,
    "ein.tags": "worksheet-0",
    "slideshow": {
     "slide_type": "-"
    }
   },
   "outputs": [],
   "source": [
    "visualize_no_of_states_per_slice(dsfs)"
   ]
  },
  {
   "cell_type": "code",
   "execution_count": null,
   "metadata": {
    "autoscroll": false,
    "ein.tags": "worksheet-0",
    "slideshow": {
     "slide_type": "-"
    }
   },
   "outputs": [],
   "source": [
    "plt.plot(saturation_history)\n",
    "sns.despine()\n",
    "plt.show()"
   ]
  },
  {
   "cell_type": "code",
   "execution_count": null,
   "metadata": {
    "autoscroll": false,
    "ein.tags": "worksheet-0",
    "scrolled": false,
    "slideshow": {
     "slide_type": "-"
    }
   },
   "outputs": [],
   "source": [
    "visualize_form_factor_sizes(form_factors)"
   ]
  },
  {
   "cell_type": "code",
   "execution_count": null,
   "metadata": {},
   "outputs": [],
   "source": [
    "visualize_sumrule_per_contributing_state(dsfs, refstate.energy, L, N, xlim=[-Imax-1, Imax+1])"
   ]
  },
  {
   "cell_type": "code",
   "execution_count": null,
   "metadata": {},
   "outputs": [],
   "source": [
    "lstate = map_to_entire_space(lieb_liniger_state(c, L, N).Is, Imax)\n",
    "visualize_state(lstate)\n",
    "\n",
    "pred = model.predict(lstate.reshape(1,-1)).reshape(N_world, N_world)\n",
    "\n",
    "visualize_q_function(pred)\n",
    "visualize_q_function(pred, generate_overlay(pred, \"lowest\", 30, N_world))\n",
    "visualize_q_function(pred, generate_overlay(pred, \"highest\", 30, N_world))"
   ]
  },
  {
   "cell_type": "code",
   "execution_count": null,
   "metadata": {},
   "outputs": [],
   "source": []
  }
 ],
 "metadata": {
  "kernelspec": {
   "display_name": "Python 3",
   "language": "python",
   "name": "python3"
  },
  "language_info": {
   "codemirror_mode": {
    "name": "ipython",
    "version": 3
   },
   "file_extension": ".py",
   "mimetype": "text/x-python",
   "name": "python",
   "nbconvert_exporter": "python",
   "pygments_lexer": "ipython3",
   "version": "3.6.5"
  },
  "name": "deepscanning.ipynb"
 },
 "nbformat": 4,
 "nbformat_minor": 2
}
