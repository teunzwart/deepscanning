{
 "cells": [
  {
   "cell_type": "code",
   "execution_count": null,
   "metadata": {},
   "outputs": [],
   "source": [
    "import matplotlib.pyplot as plt\n",
    "import numpy as np\n",
    "import pandas as pd\n",
    "import seaborn as sns\n",
    "\n",
    "%config InlineBackend.figure_format = 'svg'\n",
    "%matplotlib inline\n",
    "%load_ext autoreload\n",
    "%autoreload 2"
   ]
  },
  {
   "cell_type": "code",
   "execution_count": null,
   "metadata": {},
   "outputs": [],
   "source": [
    "def states_plot(): \n",
    "# set width of bar\n",
    "    barWidth = 0.4\n",
    "\n",
    "    # set height of bar\n",
    "    bars1 = [696, 630, 752]\n",
    "    yerr1 = [127, 111, 136]\n",
    "    bars2 = [3000, 2081, 3000]\n",
    "    yerr2 = [0, 483, 0]\n",
    "\n",
    "    # Set position of bar on X axis\n",
    "    r1 = np.arange(len(bars1))\n",
    "    r2 = [x + barWidth for x in r1]\n",
    "\n",
    "    # Make the plot\n",
    "    plt.bar(r1, bars1, yerr=yerr1, color='#3b72a1', width=barWidth, label='True')\n",
    "    plt.bar(r2, bars2, yerr=yerr2, color='#db8230', width=barWidth, label='False')\n",
    "    # plt.bar(r3, bars3, color='#2d7f5e', width=barWidth, edgecolor='white', label='var3')\n",
    "\n",
    "    # Add xticks on the middle of the group bars\n",
    "    plt.xticks([r + 0.5 * barWidth for r in range(len(bars1))], ['Random', \n",
    "                                                                 'Q-learning\\n'+r'$N_{\\mathrm{ph}}$'+' minimized\\n in training', \n",
    "                                                                 'Q-learning\\n'+r'$N_{\\mathrm{ph}}$'+' not minimized\\n in training'])\n",
    "\n",
    "    # Create legend & Show graphic\n",
    "    legend_title = r\"$N_{\\mathrm{ph}}$\" + \" minimized in evaluation\"\n",
    "    plt.legend(title=legend_title, frameon=False, loc=\"best\")\n",
    "    plt.ylim(ymax=4000)\n",
    "    sns.despine()\n",
    "    plt.tight_layout()\n",
    "    plt.savefig(\"statestoconv.pdf\")\n",
    "    plt.show()\n",
    "\n",
    "states_plot()"
   ]
  },
  {
   "cell_type": "code",
   "execution_count": null,
   "metadata": {},
   "outputs": [],
   "source": [
    "def states_plot(): \n",
    "    # set width of bar\n",
    "    barWidth = 0.4\n",
    "    \n",
    "    # set height of bar\n",
    "    bars1 = [5.28e-6, 2.09e-5, 5.26e-6]\n",
    "    yerr1 = [2.56e-6, 2.12e-5, 3.47e-6]\n",
    "    bars2 = [5.52e-16, 1.48e-8, 2.33e-15]\n",
    "    yerr2 = [4.42e-16, 8.0e-9, 3.51e-15]\n",
    "\n",
    "    # Set position of bar on X axis\n",
    "    r1 = np.arange(len(bars1))\n",
    "    r2 = [x + barWidth for x in r1]\n",
    "\n",
    "    # Make the plot\n",
    "    plt.bar(r1, bars1, yerr=yerr1, color='#3b72a1', width=barWidth, label='True')\n",
    "    plt.bar(r2, bars2, yerr=yerr2, color='#db8230', width=barWidth, label='False')\n",
    "    # plt.bar(r3, bars3, color='#2d7f5e', width=barWidth, edgecolor='white', label='var3')\n",
    "    \n",
    "    plt.yscale(\"log\", nonposy='clip')\n",
    "    plt.ylim(ymax=1)\n",
    "\n",
    "\n",
    "    # Add xticks on the middle of the group bars\n",
    "    plt.xticks([r + 0.5 * barWidth for r in range(len(bars1))], ['Random', \n",
    "                                                                 'Q-learning\\n'+r'$N_{\\mathrm{ph}}$'+' minimized\\n in training', \n",
    "                                                                 'Q-learning\\n'+r'$N_{\\mathrm{ph}}$'+' not minimized\\n in training'])\n",
    "\n",
    "    # Create legend & Show graphic\n",
    "    legend_title = r\"$N_{\\mathrm{ph}}$\" + \" minimized in evaluation\"\n",
    "    plt.legend(title=legend_title, frameon=False, loc=\"best\")\n",
    "    sns.despine()\n",
    "    plt.tight_layout()\n",
    "    plt.savefig(\"ffsizesproxy.pdf\")\n",
    "    plt.show()\n",
    "\n",
    "states_plot()"
   ]
  },
  {
   "cell_type": "code",
   "execution_count": null,
   "metadata": {},
   "outputs": [],
   "source": []
  }
 ],
 "metadata": {
  "kernelspec": {
   "display_name": "Python 3",
   "language": "python",
   "name": "python3"
  },
  "language_info": {
   "codemirror_mode": {
    "name": "ipython",
    "version": 3
   },
   "file_extension": ".py",
   "mimetype": "text/x-python",
   "name": "python",
   "nbconvert_exporter": "python",
   "pygments_lexer": "ipython3",
   "version": "3.6.5"
  }
 },
 "nbformat": 4,
 "nbformat_minor": 2
}
