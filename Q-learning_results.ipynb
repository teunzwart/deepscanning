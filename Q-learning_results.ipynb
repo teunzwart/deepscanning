{
 "cells": [
  {
   "cell_type": "code",
   "execution_count": null,
   "metadata": {},
   "outputs": [],
   "source": [
    "import matplotlib.pyplot as plt\n",
    "import numpy as np\n",
    "import pandas as pd\n",
    "import seaborn as sns\n",
    "\n",
    "%config InlineBackend.figure_format = 'svg'\n",
    "%matplotlib inline\n",
    "%load_ext autoreload\n",
    "%autoreload 2"
   ]
  },
  {
   "cell_type": "code",
   "execution_count": null,
   "metadata": {},
   "outputs": [],
   "source": [
    "def states_plot(): \n",
    "# set width of bar\n",
    "    barWidth = 0.4\n",
    "\n",
    "    # set height of bar\n",
    "    bars1 = [728, 545, 795]\n",
    "    yerr1 = [131, 151, 212]\n",
    "    bars2 = [3000, 1475, 3000]\n",
    "    yerr2 = [0, 909, 0]\n",
    "\n",
    "    # Set position of bar on X axis\n",
    "    r1 = np.arange(len(bars1))\n",
    "    r2 = [x + barWidth for x in r1]\n",
    "\n",
    "    # Make the plot\n",
    "    plt.bar(r1, bars1, yerr=yerr1, color='#3b72a1', width=barWidth, label='True')\n",
    "    plt.bar(r2, bars2, yerr=yerr2, color='#db8230', width=barWidth, label='False')\n",
    "    # plt.bar(r3, bars3, color='#2d7f5e', width=barWidth, edgecolor='white', label='var3')\n",
    "\n",
    "    # Add xticks on the middle of the group bars\n",
    "    plt.xticks([r + 0.5 * barWidth for r in range(len(bars1))], ['Random', \n",
    "                                                                 'Q-learning\\n'+r'$N_{\\mathrm{ph}}$'+' minimized\\n in training', \n",
    "                                                                 'Q-learning\\n'+r'$N_{\\mathrm{ph}}$'+' not minimized\\n in training'])\n",
    "\n",
    "    # Create legend & Show graphic\n",
    "    legend_title = r\"$N_{\\mathrm{ph}}$\" + \" minimized in evaluation\"\n",
    "    plt.legend(title=legend_title, frameon=False, loc=\"best\")\n",
    "    plt.ylim(ymax=4000)\n",
    "    sns.despine()\n",
    "    plt.ylabel(\"Number of states\")\n",
    "    plt.tight_layout()\n",
    "    plt.savefig(\"statestoconv.pdf\")\n",
    "    plt.show()\n",
    "\n",
    "states_plot()"
   ]
  },
  {
   "cell_type": "code",
   "execution_count": null,
   "metadata": {},
   "outputs": [],
   "source": [
    "def states_plot(): \n",
    "    # set width of bar\n",
    "    barWidth = 0.4\n",
    "    \n",
    "    # set height of bar\n",
    "    bars1 = [1.31e-7, 6.53e-7, 2.28e-7]\n",
    "    yerr1 = [0.60e-7, 6.34e-7, 3.34e-7]\n",
    "    bars2 = [2.79e-16, 1.73e-8, 1.56e-12]\n",
    "    yerr2 = [1.43e-16, 2.94e-8, 3.10e-12]\n",
    "\n",
    "    # Set position of bar on X axis\n",
    "    r1 = np.arange(len(bars1))\n",
    "    r2 = [x + barWidth for x in r1]\n",
    "\n",
    "    # Make the plot\n",
    "    plt.bar(r1, bars1, yerr=yerr1, color='#3b72a1', width=barWidth, label='True')\n",
    "    plt.bar(r2, bars2, yerr=yerr2, color='#db8230', width=barWidth, label='False')\n",
    "    # plt.bar(r3, bars3, color='#2d7f5e', width=barWidth, edgecolor='white', label='var3')\n",
    "    \n",
    "    plt.yscale(\"log\", nonposy='clip')\n",
    "    plt.ylim(ymax=1)\n",
    "\n",
    "\n",
    "    # Add xticks on the middle of the group bars\n",
    "    plt.xticks([r + 0.5 * barWidth for r in range(len(bars1))], ['Random', \n",
    "                                                                 'Q-learning\\n'+r'$N_{\\mathrm{ph}}$'+' minimized\\n in training', \n",
    "                                                                 'Q-learning\\n'+r'$N_{\\mathrm{ph}}$'+' not minimized\\n in training'])\n",
    "\n",
    "    # Create legend & Show graphic\n",
    "    legend_title = r\"$N_{\\mathrm{ph}}$\" + \" minimized in evaluation\"\n",
    "    plt.legend(title=legend_title, frameon=False, loc=\"best\")\n",
    "    sns.despine()\n",
    "    plt.ylabel(\"Square form factor\")\n",
    "    plt.tight_layout()\n",
    "    plt.savefig(\"ffsizesproxy.pdf\")\n",
    "    plt.show()\n",
    "\n",
    "states_plot()"
   ]
  },
  {
   "cell_type": "code",
   "execution_count": null,
   "metadata": {},
   "outputs": [],
   "source": []
  }
 ],
 "metadata": {
  "kernelspec": {
   "display_name": "Python 3",
   "language": "python",
   "name": "python3"
  },
  "language_info": {
   "codemirror_mode": {
    "name": "ipython",
    "version": 3
   },
   "file_extension": ".py",
   "mimetype": "text/x-python",
   "name": "python",
   "nbconvert_exporter": "python",
   "pygments_lexer": "ipython3",
   "version": "3.6.5"
  }
 },
 "nbformat": 4,
 "nbformat_minor": 2
}
