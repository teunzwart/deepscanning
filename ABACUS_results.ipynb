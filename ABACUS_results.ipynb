{
 "cells": [
  {
   "cell_type": "code",
   "execution_count": null,
   "metadata": {},
   "outputs": [],
   "source": [
    "import matplotlib.pyplot as plt\n",
    "import numpy as np\n",
    "import pandas as pd\n",
    "import seaborn as sns\n",
    "\n",
    "from visualize import *\n",
    "from lieb_liniger_state import *\n",
    "from sum_rule import *\n",
    "\n",
    "# plt.rc('text', usetex=True)\n",
    "# plt.rc('font', family='serif')\n",
    "\n",
    "%config InlineBackend.figure_format = 'svg'\n",
    "%matplotlib inline\n",
    "%load_ext autoreload\n",
    "%autoreload 2"
   ]
  },
  {
   "cell_type": "code",
   "execution_count": null,
   "metadata": {},
   "outputs": [],
   "source": [
    "df = pd.read_csv(\"LiebLin_Rho_Rho_c_1_L_11_N_11_11_0__iKmin_-40_iKmax_40.raw\", \n",
    "                 sep=\"\\t\", usecols=[0,1,2])\n",
    "df = df.rename(index=str, columns={\"0\": \"energy\", \"0.1\": \"momentum\", \"1\": \"ff\"})\n",
    "# Otherwise the plotting does not work correctly (since 10^-187 != 0 exactly).\n",
    "df[\"ff\"][0] = 0"
   ]
  },
  {
   "cell_type": "code",
   "execution_count": null,
   "metadata": {},
   "outputs": [],
   "source": [
    "visualize_form_factor_sizes(np.array(df[\"ff\"].tolist()), save=True, name=\"abacus_ff_sq\")"
   ]
  },
  {
   "cell_type": "code",
   "execution_count": null,
   "metadata": {},
   "outputs": [],
   "source": [
    "saturations = pd.read_csv(\"LiebLin_Rho_Rho_c_1_L_11_N_11_11_0__iKmin_-40_iKmax_40.fsr\", \n",
    "                          sep='\\t', header=None, usecols=[0, 1])\n",
    "plt.bar(saturations[0], saturations[1])\n",
    "sns.despine()\n",
    "plt.xlabel(\"Momentum\")\n",
    "plt.ylabel(\"Saturation\")\n",
    "plt.savefig(\"abacus_saturations.pdf\")\n",
    "plt.show()"
   ]
  },
  {
   "cell_type": "code",
   "execution_count": null,
   "metadata": {},
   "outputs": [],
   "source": []
  }
 ],
 "metadata": {
  "kernelspec": {
   "display_name": "Python 3",
   "language": "python",
   "name": "python3"
  },
  "language_info": {
   "codemirror_mode": {
    "name": "ipython",
    "version": 3
   },
   "file_extension": ".py",
   "mimetype": "text/x-python",
   "name": "python",
   "nbconvert_exporter": "python",
   "pygments_lexer": "ipython3",
   "version": "3.6.5"
  }
 },
 "nbformat": 4,
 "nbformat_minor": 2
}
