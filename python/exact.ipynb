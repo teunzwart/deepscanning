{
 "cells": [
  {
   "cell_type": "code",
   "execution_count": null,
   "metadata": {},
   "outputs": [],
   "source": [
    "from sympy.utilities.iterables import variations\n",
    "from collections import Counter\n",
    "import matplotlib.pyplot as plt\n",
    "\n",
    "import lieb_liniger_state as lls\n",
    "import rho_form_factor as rff\n",
    "import numpy as np\n",
    "import sys\n",
    "from sum_rule import *\n",
    "import utils\n",
    "\n",
    "%load_ext autoreload\n",
    "%autoreload 2\n",
    "\n",
    "%load_ext line_profiler"
   ]
  },
  {
   "cell_type": "code",
   "execution_count": null,
   "metadata": {},
   "outputs": [],
   "source": [
    "L = N = 5\n",
    "Imax = 12\n",
    "\n",
    "rstate = lls.lieb_liniger_state(1, L, N)\n",
    "rstate.calculate_all()"
   ]
  },
  {
   "cell_type": "code",
   "execution_count": null,
   "metadata": {},
   "outputs": [],
   "source": [
    "perms = set(sorted(tuple(sorted(x)) for x in variations(range(-Imax, Imax + 1), N)))"
   ]
  },
  {
   "cell_type": "code",
   "execution_count": null,
   "metadata": {},
   "outputs": [],
   "source": [
    "k = Counter(sorted(sum(x) for x in perms))"
   ]
  },
  {
   "cell_type": "code",
   "execution_count": null,
   "metadata": {},
   "outputs": [],
   "source": [
    "plt.bar([z for z in k], [k[z] for z in k])\n",
    "plt.show()\n",
    "print(\"# of states:\", sum([k[z] for z in k]))"
   ]
  },
  {
   "cell_type": "code",
   "execution_count": null,
   "metadata": {},
   "outputs": [],
   "source": [
    "dsf_data = {}\n",
    "for i, a in enumerate(perms):\n",
    "    lstate = lls.lieb_liniger_state(1, L, N, list(a))\n",
    "    lstate.calculate_all()\n",
    "    lstate.ff = rff.calculate_normalized_form_factor(lstate, rstate)\n",
    "    if lstate.integer_momentum in dsf_data.keys():\n",
    "        dsf_data[lstate.integer_momentum].append(lstate)\n",
    "    else:\n",
    "        dsf_data[lstate.integer_momentum] = [lstate]\n",
    "    sys.stdout.write(f\"{str(i)}\\r\")\n",
    "    sys.stdout.flush()"
   ]
  },
  {
   "cell_type": "code",
   "execution_count": null,
   "metadata": {},
   "outputs": [],
   "source": [
    "saturations = []\n",
    "for i, states in sorted(dsf_data.items()):\n",
    "    if i != 0:\n",
    "        saturations.append(left_side(states, rstate.energy) / right_side(i, L, N))"
   ]
  },
  {
   "cell_type": "code",
   "execution_count": null,
   "metadata": {},
   "outputs": [],
   "source": [
    "data = list(zip(*[[z for z in range(-max(dsf_data.keys()), max(dsf_data.keys()) + 1) if z != 0], saturations]))\n",
    "\n",
    "largest_attained = Imax #max(dsf_data.keys())\n",
    "\n",
    "plt.bar([z[0] for z in data if abs(z[0]) <= largest_attained], [z[1] for z in data if abs(z[0]) <= largest_attained])\n",
    "plt.show()\n",
    "\n",
    "print(sum([z[1] for z in data if abs(z[0]) <= largest_attained]) / len([z[1] for z in data if abs(z[0]) <= largest_attained]))"
   ]
  },
  {
   "cell_type": "code",
   "execution_count": null,
   "metadata": {},
   "outputs": [],
   "source": [
    "no_ex_data = {}\n",
    "for i, a in enumerate(perms):\n",
    "    lstate = lls.lieb_liniger_state(1, L, N, list(a))\n",
    "    lstate.calculate_all()\n",
    "    no = utils.no_of_particle_hole_pairs(utils.map_to_entire_space(lstate.Is, 10), utils.map_to_entire_space(rstate.Is, Imax), N)\n",
    "    lstate.ff = rff.calculate_normalized_form_factor(lstate, rstate)\n",
    "    if no in no_ex_data.keys():\n",
    "        no_ex_data[no].append(lstate)\n",
    "    else:\n",
    "        no_ex_data[no] = [lstate]"
   ]
  },
  {
   "cell_type": "code",
   "execution_count": null,
   "metadata": {},
   "outputs": [],
   "source": [
    "form_facts = []\n",
    "for k in sorted(no_ex_data.keys()):\n",
    "    av = 0\n",
    "    for state in no_ex_data[k]:\n",
    "        av += np.abs(state.ff)\n",
    "        if k == 0:\n",
    "            print(state.Is, state.ff)\n",
    "    av /= len(no_ex_data[k])\n",
    "    form_facts.append(av)"
   ]
  },
  {
   "cell_type": "code",
   "execution_count": null,
   "metadata": {},
   "outputs": [],
   "source": [
    "print(len(no_ex_data.keys()))\n",
    "print(form_facts)\n",
    "plt.bar(range(0, 17), form_facts)\n",
    "plt.show()"
   ]
  },
  {
   "cell_type": "code",
   "execution_count": null,
   "metadata": {},
   "outputs": [],
   "source": [
    "no_ex_data.keys()"
   ]
  },
  {
   "cell_type": "code",
   "execution_count": null,
   "metadata": {},
   "outputs": [],
   "source": [
    "print(form_facts)"
   ]
  },
  {
   "cell_type": "code",
   "execution_count": null,
   "metadata": {},
   "outputs": [],
   "source": [
    "plt.bar(range(0, 5), [len(no_ex_data[z]) for z in range(0, 5)])\n",
    "plt.show()"
   ]
  },
  {
   "cell_type": "code",
   "execution_count": null,
   "metadata": {},
   "outputs": [],
   "source": [
    "for t in no_ex_data[1]:\n",
    "    print(t.Is, np.abs(t.ff))"
   ]
  },
  {
   "cell_type": "code",
   "execution_count": null,
   "metadata": {},
   "outputs": [],
   "source": []
  }
 ],
 "metadata": {
  "kernelspec": {
   "display_name": "Python 3",
   "language": "python",
   "name": "python3"
  },
  "language_info": {
   "codemirror_mode": {
    "name": "ipython",
    "version": 3
   },
   "file_extension": ".py",
   "mimetype": "text/x-python",
   "name": "python",
   "nbconvert_exporter": "python",
   "pygments_lexer": "ipython3",
   "version": "3.6.5"
  }
 },
 "nbformat": 4,
 "nbformat_minor": 2
}
