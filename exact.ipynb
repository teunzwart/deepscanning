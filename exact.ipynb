{
 "cells": [
  {
   "cell_type": "code",
   "execution_count": null,
   "metadata": {},
   "outputs": [],
   "source": [
    "from collections import Counter\n",
    "import sys\n",
    "\n",
    "from sympy.utilities.iterables import variations\n",
    "import matplotlib.pyplot as plt\n",
    "from matplotlib.ticker import MaxNLocator\n",
    "import numpy as np\n",
    "import seaborn as sns\n",
    "\n",
    "\n",
    "import lieb_liniger_state as lls\n",
    "from visualize import *\n",
    "import rho_form_factor as rff\n",
    "from sum_rule import *\n",
    "import utils\n",
    "\n",
    "%config InlineBackend.figure_format = 'svg'\n",
    "%matplotlib inline\n",
    "%load_ext autoreload\n",
    "%autoreload 2"
   ]
  },
  {
   "cell_type": "code",
   "execution_count": null,
   "metadata": {},
   "outputs": [],
   "source": [
    "c = 1\n",
    "L = N = 5\n",
    "Imax = 12\n",
    "N_world = 2 * Imax + 1\n",
    "\n",
    "rstate = lls.lieb_liniger_state(c, L, N)\n",
    "rstate.calculate_all()"
   ]
  },
  {
   "cell_type": "code",
   "execution_count": null,
   "metadata": {},
   "outputs": [],
   "source": [
    "perms = set(sorted(tuple(sorted(x)) for x in variations(range(-Imax, Imax + 1), N)))"
   ]
  },
  {
   "cell_type": "code",
   "execution_count": null,
   "metadata": {},
   "outputs": [],
   "source": [
    "k = Counter(sorted(sum(x) for x in perms))\n",
    "print(\"# of states:\", sum([k[z] for z in k]))"
   ]
  },
  {
   "cell_type": "code",
   "execution_count": null,
   "metadata": {},
   "outputs": [],
   "source": [
    "dsf_data = {}\n",
    "for i, a in enumerate(perms):\n",
    "    lstate = lls.lieb_liniger_state(c, L, N, list(a))\n",
    "    lstate.calculate_all()\n",
    "    lstate.ff = rff.rho_form_factor(lstate, rstate)\n",
    "    if lstate.integer_momentum in dsf_data.keys():\n",
    "        dsf_data[lstate.integer_momentum].append(lstate)\n",
    "    else:\n",
    "        dsf_data[lstate.integer_momentum] = [lstate]\n",
    "    sys.stdout.write(f\"{str(i)}\\r\")\n",
    "    sys.stdout.flush()"
   ]
  },
  {
   "cell_type": "code",
   "execution_count": null,
   "metadata": {},
   "outputs": [],
   "source": [
    "visualize_no_of_states_per_slice(dsf_data)"
   ]
  },
  {
   "cell_type": "code",
   "execution_count": null,
   "metadata": {},
   "outputs": [],
   "source": [
    "compute_average_sumrule(dsf_data, rstate.energy, L, N, Imax, N_world, print_all=True)"
   ]
  },
  {
   "cell_type": "code",
   "execution_count": null,
   "metadata": {},
   "outputs": [],
   "source": [
    "visualize_sumrule_per_contributing_state(dsf_data, rstate.energy, L, N, xlim=(-Imax-1, Imax+1), save=True)"
   ]
  },
  {
   "cell_type": "code",
   "execution_count": null,
   "metadata": {
    "scrolled": false
   },
   "outputs": [],
   "source": [
    "# Find the form factors for the states and the assiocated number of particle hole pairs\n",
    "no_ex_data  = {}\n",
    "form_facts = {}\n",
    "sum_rule_contribs = {}\n",
    "for _, states in sorted(dsf_data.items()):\n",
    "    for state in states:\n",
    "        no = utils.no_of_particle_hole_pairs(\n",
    "            utils.map_to_entire_space(state.Is, Imax), \n",
    "            utils.map_to_entire_space(rstate.Is, Imax), N)\n",
    "        if no in no_ex_data.keys():\n",
    "            no_ex_data[no].append(state)\n",
    "        else:\n",
    "            no_ex_data[no] = [state]\n",
    "        if no in form_facts.keys():\n",
    "            form_facts[no].append(state.ff)\n",
    "        else:\n",
    "            form_facts[no] = [state.ff]\n",
    "        if state.integer_momentum != 0:\n",
    "            if no in sum_rule_contribs.keys():\n",
    "                sum_rule_contribs[no].append(left_side([state], rstate.energy) / right_side(state.integer_momentum, L, N))\n",
    "            else:\n",
    "                sum_rule_contribs[no] = [left_side([state], rstate.energy) / right_side(state.integer_momentum, L, N)]"
   ]
  },
  {
   "cell_type": "code",
   "execution_count": null,
   "metadata": {},
   "outputs": [],
   "source": [
    "fig, ax = plt.subplots()\n",
    "ax.bar(range(0, len(no_ex_data.keys())), [np.mean(np.abs(np.array(k[1]))**2) for k in sorted(form_facts.items())])\n",
    "ax.set_xlabel(\"Number of particle-hole pairs\")\n",
    "ax.set_ylabel(\"Mean form factor squared\")\n",
    "ax.set_yscale('log')\n",
    "ax.xaxis.set_major_locator(MaxNLocator(integer=True))\n",
    "sns.despine()\n",
    "fig.savefig(\"ave_form_factor_ph_pairs.pdf\", bbox='tight')\n",
    "plt.show()"
   ]
  },
  {
   "cell_type": "code",
   "execution_count": null,
   "metadata": {},
   "outputs": [],
   "source": [
    "fig, ax = plt.subplots()\n",
    "ax.bar(range(0, len(no_ex_data.keys())), [len(no_ex_data[z]) for z in range(0, len(no_ex_data.keys()))])\n",
    "ax.set_xlabel(\"Number of particle-hole pairs\")\n",
    "ax.set_ylabel(\"Number of states\")\n",
    "ax.xaxis.set_major_locator(MaxNLocator(integer=True))\n",
    "sns.despine()\n",
    "fig.savefig(\"no_states_ph_pairs.pdf\", bbox='tight')\n",
    "plt.show()"
   ]
  },
  {
   "cell_type": "code",
   "execution_count": null,
   "metadata": {},
   "outputs": [],
   "source": [
    "fig, ax = plt.subplots()\n",
    "ax.bar(range(0, len(no_ex_data.keys())), [0] + [np.mean(np.array(k[1])) for k in sorted(sum_rule_contribs.items())])\n",
    "ax.set_xlabel(\"Number of particle-hole pairs\")\n",
    "ax.set_ylabel(\"Mean sumrule saturation per state\")\n",
    "ax.set_yscale('log')\n",
    "ax.xaxis.set_major_locator(MaxNLocator(integer=True))\n",
    "sns.despine()\n",
    "fig.savefig(\"ave_sum_rule_saturation_ph_pairs.pdf\", bbox='tight')\n",
    "plt.show()"
   ]
  },
  {
   "cell_type": "code",
   "execution_count": null,
   "metadata": {},
   "outputs": [],
   "source": []
  }
 ],
 "metadata": {
  "kernelspec": {
   "display_name": "Python 3",
   "language": "python",
   "name": "python3"
  },
  "language_info": {
   "codemirror_mode": {
    "name": "ipython",
    "version": 3
   },
   "file_extension": ".py",
   "mimetype": "text/x-python",
   "name": "python",
   "nbconvert_exporter": "python",
   "pygments_lexer": "ipython3",
   "version": "3.6.5"
  }
 },
 "nbformat": 4,
 "nbformat_minor": 2
}
